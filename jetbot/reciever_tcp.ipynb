{
 "cells": [
  {
   "cell_type": "code",
   "execution_count": null,
   "metadata": {},
   "outputs": [],
   "source": [
    "import socket\n",
    "import numpy\n",
    "import cv2"
   ]
  },
  {
   "cell_type": "code",
   "execution_count": null,
   "metadata": {},
   "outputs": [],
   "source": [
    "UDP_IP = \"127.0.0.1\"\n",
    "UDP_PORT = 5555"
   ]
  },
  {
   "cell_type": "code",
   "execution_count": null,
   "metadata": {},
   "outputs": [],
   "source": [
    "sock = socket.socket(socket.AF_INET, socket.SOCK_DGRAM)\n",
    "sock.bind((UDP_IP, UDP_PORT))"
   ]
  },
  {
   "cell_type": "code",
   "execution_count": null,
   "metadata": {},
   "outputs": [],
   "source": [
    "s = b''\n",
    "\n",
    "while True:\n",
    "    data, addr = sock.recvfrom(46080)\n",
    "    s += data\n",
    "\n",
    "    if len(s) == (46080 * 20):\n",
    "        frame = numpy.fromstring(s, dtype=numpy.uint8)\n",
    "        frame = frame.reshape(480, 640, 3)\n",
    "        cv2.imwrite(\"frame.jpg\", frame)\n",
    "        s = b''"
   ]
  }
 ],
 "metadata": {
  "kernelspec": {
   "display_name": "Python 3",
   "language": "python",
   "name": "python3"
  },
  "language_info": {
   "codemirror_mode": {
    "name": "ipython",
    "version": 3
   },
   "file_extension": ".py",
   "mimetype": "text/x-python",
   "name": "python",
   "nbconvert_exporter": "python",
   "pygments_lexer": "ipython3",
   "version": "3.6.9"
  }
 },
 "nbformat": 4,
 "nbformat_minor": 4
}
