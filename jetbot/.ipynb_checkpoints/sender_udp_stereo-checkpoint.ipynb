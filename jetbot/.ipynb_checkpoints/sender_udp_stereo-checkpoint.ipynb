{
 "cells": [
  {
   "cell_type": "code",
   "execution_count": 1,
   "metadata": {},
   "outputs": [],
   "source": [
    "import socket\n",
    "import cv2, time"
   ]
  },
  {
   "cell_type": "code",
   "execution_count": 2,
   "metadata": {},
   "outputs": [],
   "source": [
    "UDP_IP = '192.168.0.20'\n",
    "UDP_PORT = 5555"
   ]
  },
  {
   "cell_type": "code",
   "execution_count": 30,
   "metadata": {},
   "outputs": [
    {
     "data": {
      "text/plain": [
       "True"
      ]
     },
     "execution_count": 30,
     "metadata": {},
     "output_type": "execute_result"
    }
   ],
   "source": [
    "sock = socket.socket(socket.AF_INET, socket.SOCK_DGRAM)\n",
    "cap = cv2.VideoCapture(1)\n",
    "cap.set(cv2.CAP_PROP_FRAME_WIDTH, 640)  # width\n",
    "cap.set(cv2.CAP_PROP_FRAME_HEIGHT, 240) # height\n",
    "cap.set(cv2.CAP_PROP_FPS, 5)"
   ]
  },
  {
   "cell_type": "code",
   "execution_count": 32,
   "metadata": {},
   "outputs": [],
   "source": [
    "n=1\n",
    "try:\n",
    "    while cap.isOpened():\n",
    "        start = time.time()\n",
    "        ret, frame = cap.read() \n",
    "        d = frame.flatten()\n",
    "        s = d.tostring()\n",
    "        \n",
    "        # frame (240, 640, 3)\n",
    "        # 480*640*3=460800\n",
    "        # ((480*640*3)/8=57600) < 65535\n",
    "        for i in range(8): \n",
    "            sock.sendto(bytes([i]) + s[i*57600:(i+1)*57600], (UDP_IP, UDP_PORT))\n",
    "        print(str(n) + '\\t' + str(time.time() - start) + '\\t\\t\\t', end='\\r')\n",
    "        n = n+1\n",
    "#         time.sleep(0.1)\n",
    "            \n",
    "finally:\n",
    "    cap.release()\n",
    "    sock.close()"
   ]
  },
  {
   "cell_type": "code",
   "execution_count": 33,
   "metadata": {},
   "outputs": [],
   "source": [
    "cap.release()\n",
    "sock.close()"
   ]
  }
 ],
 "metadata": {
  "kernelspec": {
   "display_name": "Python 3",
   "language": "python",
   "name": "python3"
  },
  "language_info": {
   "codemirror_mode": {
    "name": "ipython",
    "version": 3
   },
   "file_extension": ".py",
   "mimetype": "text/x-python",
   "name": "python",
   "nbconvert_exporter": "python",
   "pygments_lexer": "ipython3",
   "version": "3.6.9"
  }
 },
 "nbformat": 4,
 "nbformat_minor": 4
}
